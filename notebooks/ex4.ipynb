{
 "cells": [
  {
   "cell_type": "markdown",
   "metadata": {},
   "source": [
    "# Ejercicio 4"
   ]
  },
  {
   "cell_type": "code",
   "execution_count": 207,
   "metadata": {},
   "outputs": [],
   "source": [
    "import cv2\n",
    "import numpy as np"
   ]
  },
  {
   "cell_type": "markdown",
   "metadata": {},
   "source": [
    "## Funciones auxiliares\n",
    "Dentro de estas funciones, se destaca `motion_kernel`, cuyo resultado es el que se utiliza para obtener la imagen con *Motion Blur*, y `update`, la cual es llamada cada vez que en la GUI se modifique el valor de uno de los *sliders* y aplicará el filtro de Wiener para esos parámetros dados."
   ]
  },
  {
   "cell_type": "code",
   "execution_count": 208,
   "metadata": {},
   "outputs": [],
   "source": [
    "def blur_edge(img, d=31):\n",
    "    h, w  = img.shape[:2]\n",
    "    img_pad = cv2.copyMakeBorder(img, d, d, d, d, cv2.BORDER_WRAP)\n",
    "    img_blur = cv2.GaussianBlur(img_pad, (2*d+1, 2*d+1), -1)[d:-d,d:-d]\n",
    "    y, x = np.indices((h, w))\n",
    "    dist = np.dstack([x, w-x-1, y, h-y-1]).min(-1)\n",
    "    w = np.minimum(np.float32(dist)/d, 1.0)\n",
    "    return img*w + img_blur*(1-w)"
   ]
  },
  {
   "cell_type": "code",
   "execution_count": 209,
   "metadata": {},
   "outputs": [],
   "source": [
    "def motion_kernel(angle, d, size=65):\n",
    "    kernel = np.ones((1, d), np.float32)\n",
    "    cos, sin = np.cos(angle), np.sin(angle)\n",
    "    A = np.float32([[cos, -sin, 0], [sin, cos, 0]])\n",
    "    half_size = size // 2\n",
    "\n",
    "    A[:,2] = (half_size, half_size) - np.dot(A[:,:2], ((d-1)*0.5, 0))\n",
    "    kernel = cv2.warpAffine(kernel, A, (size, size), flags=cv2.INTER_CUBIC)\n",
    "    return kernel"
   ]
  },
  {
   "cell_type": "code",
   "execution_count": 210,
   "metadata": {},
   "outputs": [],
   "source": [
    "def update(img, IMG):\n",
    "    win = 'Restored with Wiener Filter'\n",
    "\n",
    "    ang = np.deg2rad( cv2.getTrackbarPos('angle', win) )\n",
    "    d = cv2.getTrackbarPos('d', win)\n",
    "    noise = 10**(-0.1*cv2.getTrackbarPos('SNR (db)', win))\n",
    "\n",
    "    psf = motion_kernel(ang, d, 128)\n",
    "    cv2.imshow('Distortion Kernel Assumed', psf)\n",
    "\n",
    "    psf /= psf.sum()\n",
    "    psf_pad = np.zeros_like(img)\n",
    "    kh, kw = psf.shape\n",
    "    psf_pad[:kh, :kw] = psf\n",
    "\n",
    "    PSF = cv2.dft(psf_pad, flags=cv2.DFT_COMPLEX_OUTPUT, nonzeroRows = kh)\n",
    "    PSF2 = (PSF**2).sum(-1)\n",
    "\n",
    "    iPSF = PSF / (PSF2 + noise)[...,np.newaxis]\n",
    "    RES = cv2.mulSpectrums(IMG, iPSF, 0)\n",
    "\n",
    "    res = cv2.idft(RES, flags=cv2.DFT_SCALE | cv2.DFT_REAL_OUTPUT )\n",
    "    res = np.roll(res, -kh//2, 0)\n",
    "    res = np.roll(res, -kw//2, 1)\n",
    "    cv2.imshow(win, res)"
   ]
  },
  {
   "cell_type": "markdown",
   "metadata": {},
   "source": [
    "## Distorsión de la imagen original\n",
    "Utilizando el kernel de *Motion Blur* que se muestra en la primer celda a continuación, se distorsiona la imagen nítida de un león."
   ]
  },
  {
   "cell_type": "code",
   "execution_count": 211,
   "metadata": {},
   "outputs": [],
   "source": [
    "psf = motion_kernel(np.pi/3, 64, 128)\n",
    "cv2.imshow('psf', psf)\n",
    "cv2.waitKey(0)\n",
    "cv2.destroyAllWindows()"
   ]
  },
  {
   "cell_type": "code",
   "execution_count": 212,
   "metadata": {},
   "outputs": [],
   "source": [
    "img = cv2.imread('../resources/lion.jpg', cv2.IMREAD_GRAYSCALE)\n",
    "img = np.float32(img) / img.max()\n",
    "cv2.imshow('Original Image', img)\n",
    "cv2.waitKey(0)\n",
    "cv2.destroyAllWindows()"
   ]
  },
  {
   "cell_type": "code",
   "execution_count": 213,
   "metadata": {},
   "outputs": [],
   "source": [
    "img_motion_blur = cv2.filter2D(img, -1, psf)\n",
    "img_motion_blur = np.float32(img_motion_blur) / img_motion_blur.max()\n",
    "img_motion_blur = blur_edge(img_motion_blur, 256)\n",
    "img_motion_blur = np.float32(img_motion_blur) / img_motion_blur.max()\n",
    "cv2.imshow('Blurred Image', img_motion_blur)\n",
    "cv2.waitKey(0)\n",
    "cv2.destroyAllWindows()\n",
    "_ = cv2.imwrite('../resources/lion_blurred.jpg', img_motion_blur * 255)"
   ]
  },
  {
   "cell_type": "markdown",
   "metadata": {},
   "source": [
    "## Reconstrucción con filtro Wiener\n",
    "Se ejecuta la GUI con la cual se pueden ajustar los parámetros del *Motion Blur* que se supone que fue aplicado, para encontrar el punto de mejor restauración. Dado que se sabe que la distorsión se hizo con ángulo de 60° y `d = 64`, se cargan por defecto esos valores a los sliders, pero puede movérselos para observar la variación en el resultado."
   ]
  },
  {
   "cell_type": "code",
   "execution_count": null,
   "metadata": {},
   "outputs": [],
   "source": [
    "win = 'Restored with Wiener Filter'\n",
    "cv2.namedWindow(win)\n",
    "cv2.namedWindow('Distortion Kernel Assumed', 0)\n",
    "img_deblur = np.float32(cv2.imread('../resources/lion_blurred.jpg', cv2.IMREAD_GRAYSCALE))\n",
    "img_deblur /= img_deblur.max()\n",
    "IMG = cv2.dft(img_deblur, flags=cv2.DFT_COMPLEX_OUTPUT)\n",
    "cv2.imshow('Original Image', img)\n",
    "cv2.imshow('Blurred Image', img_motion_blur)\n",
    "\n",
    "cv2.createTrackbar('angle', win, 60, 180, lambda _ : update(img_deblur, IMG))\n",
    "cv2.createTrackbar('d', win, 64, 150, lambda _ : update(img_deblur, IMG))\n",
    "cv2.createTrackbar('SNR (db)', win, 35, 50, lambda _ : update(img_deblur, IMG))\n",
    "update(img_deblur, IMG)\n",
    "cv2.waitKey(0)\n",
    "cv2.destroyAllWindows()"
   ]
  }
 ],
 "metadata": {
  "interpreter": {
   "hash": "68fb5c20ba1a3aa3334967319a3d04975c138802f4c530b6ce16821a76da13ee"
  },
  "kernelspec": {
   "display_name": "Python 3.7.7 64-bit ('base': conda)",
   "name": "python3"
  },
  "language_info": {
   "codemirror_mode": {
    "name": "ipython",
    "version": 3
   },
   "file_extension": ".py",
   "mimetype": "text/x-python",
   "name": "python",
   "nbconvert_exporter": "python",
   "pygments_lexer": "ipython3",
   "version": "3.7.7"
  },
  "orig_nbformat": 4
 },
 "nbformat": 4,
 "nbformat_minor": 2
}
